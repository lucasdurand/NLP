{
 "cells": [
  {
   "cell_type": "code",
   "execution_count": 12,
   "metadata": {
    "collapsed": false,
    "deletable": true,
    "editable": true
   },
   "outputs": [],
   "source": [
    "from twitterscraper import query_tweets\n",
    "from textblob import TextBlob, Blobber\n",
    "from textblob.sentiments import NaiveBayesAnalyzer\n",
    "import re"
   ]
  },
  {
   "cell_type": "code",
   "execution_count": 13,
   "metadata": {
    "collapsed": true,
    "deletable": true,
    "editable": true
   },
   "outputs": [],
   "source": [
    "import pandas as pd"
   ]
  },
  {
   "cell_type": "code",
   "execution_count": 14,
   "metadata": {
    "collapsed": false,
    "deletable": true,
    "editable": true
   },
   "outputs": [],
   "source": [
    "tb = Blobber(analyzer=NaiveBayesAnalyzer()) #trains on Movie set and saves model"
   ]
  },
  {
   "cell_type": "code",
   "execution_count": 15,
   "metadata": {
    "collapsed": false
   },
   "outputs": [],
   "source": [
    "tdsearch = \"%23TDBank%20since%3A2017-01-01%20until%3A2017-05-01\""
   ]
  },
  {
   "cell_type": "code",
   "execution_count": 16,
   "metadata": {
    "collapsed": true
   },
   "outputs": [],
   "source": [
    "tweets = query_tweets(tdsearch, 10)\n",
    "#to json"
   ]
  },
  {
   "cell_type": "code",
   "execution_count": null,
   "metadata": {
    "collapsed": false
   },
   "outputs": [],
   "source": [
    "#Tweets that meet criteria #TDBank\n",
    "df = pd.from_json(\"tweets.json\")\n",
    "sentiments = zip(*(tb(x).sentiment for x in df.text))\n",
    "df['class'], df['p_pos'], df['p_neg'] = sentiments\n",
    "#languages = [tb(x).detect_language() for x in df.text] #this takes a long time ... querying google for each?\n",
    "df.to_csv(\"tdtweets.csv\",index=False, encoding=\"utf-8\")\n"
   ]
  },
  {
   "cell_type": "markdown",
   "metadata": {},
   "source": [
    "# APPENDIX"
   ]
  },
  {
   "cell_type": "code",
   "execution_count": 17,
   "metadata": {
    "collapsed": false,
    "deletable": true,
    "editable": true
   },
   "outputs": [],
   "source": [
    "def zeitgeist(kw):\n",
    "    tweets = []\n",
    "    for tweet in query_tweets(kw, 1):\n",
    "        t = tweet.text.encode('utf-8')\n",
    "        #t = re.sub(r'https?:\\/\\/.*[\\r\\n]*', '', t, flags=re.MULTILINE) #kill urls\n",
    "        t = t.decode('utf-8')\n",
    "        sent = tb(t).sentiment    \n",
    "        emote = \":|\"\n",
    "        if sent.p_neg > 0.7:\n",
    "            emote = \":(\"\n",
    "        elif sent.p_pos > 0.7:\n",
    "            emote = \":)\"\n",
    "        twit = {\"tweet\":t,\"emote\":emote,\"time\":tweet.timestamp}\n",
    "        tweets += [twit]\n",
    "    return tweets"
   ]
  },
  {
   "cell_type": "code",
   "execution_count": 18,
   "metadata": {
    "collapsed": false,
    "deletable": true,
    "editable": true
   },
   "outputs": [],
   "source": [
    "tweets = zeitgeist(\"#TDBank\")"
   ]
  },
  {
   "cell_type": "code",
   "execution_count": 19,
   "metadata": {
    "collapsed": false
   },
   "outputs": [
    {
     "data": {
      "text/plain": [
       "[{'emote': ':|',\n",
       "  'time': datetime.datetime(2017, 10, 5, 14, 33, 37),\n",
       "  'tweet': u\"#Canada's #TDBank looks to #Israel for #CyberSecurity expertisehttps://twitter.com/bluestarisrael/status/915619944519303168\\xa0\\u2026\"},\n",
       " {'emote': ':|',\n",
       "  'time': datetime.datetime(2017, 10, 5, 15, 48, 58),\n",
       "  'tweet': u'Walking for a cause. #findacure #TDbank #cancersucks'},\n",
       " {'emote': ':|',\n",
       "  'time': datetime.datetime(2017, 10, 5, 19, 35, 36),\n",
       "  'tweet': u'TD Bank is NOW OPEN on Flatbush! \\n\\n#tdbank #openforbusiness #nowopen #pacificparkbk\\u2026 https://www.instagram.com/p/BZ4NY1WD9OE/\\xa0'},\n",
       " {'emote': ':)',\n",
       "  'time': datetime.datetime(2017, 10, 5, 20, 58, 53),\n",
       "  'tweet': u'Please sign +RT this petition to #TDBank to stop financing tar sands pipelines: https://twitter.com/GreenpeaceCA/status/916044040356872192\\xa0\\u2026'},\n",
       " {'emote': ':)',\n",
       "  'time': datetime.datetime(2017, 10, 6, 0, 15, 15),\n",
       "  'tweet': u'Rocking the #DigitalAdvice in @TD_Canada Bedford #Imdigitalready #ATLDigitalGenius #onlinebanking #DigitalBanking #TDbank #ReadyForYoupic.twitter.com/Kz4j8NGUNF'},\n",
       " {'emote': ':|',\n",
       "  'time': datetime.datetime(2017, 10, 6, 0, 16, 38),\n",
       "  'tweet': u'Lunch with @WayneGretzky today. What a gentleman and legend. #99 #OilersNation #EdmontonOilers #TDbank #thankaccountpic.twitter.com/n2MN7qrwTl'},\n",
       " {'emote': ':)',\n",
       "  'time': datetime.datetime(2017, 10, 6, 5, 19, 21),\n",
       "  'tweet': u'We join with @AndrewHevesi in honoring John Jones of #TDBank for his support of our local youth.  https://instagram.com/p/BZ1snGngUoBZL5dW5dlZ3NgCkySRxbxeQVNd900\\xa0\\u2026.'},\n",
       " {'emote': ':|',\n",
       "  'time': datetime.datetime(2017, 10, 6, 15, 52, 43),\n",
       "  'tweet': u'Go B\\u2019s!!! TD Bank was ready for opening night!!!!! #tdbank #gobruins #bruins #bostonbruins @\\u2026 https://www.instagram.com/p/BZ6Ygc-nRcV/\\xa0'},\n",
       " {'emote': ':)',\n",
       "  'time': datetime.datetime(2017, 10, 6, 18, 28, 23),\n",
       "  'tweet': u'Thank you TD Bank for the TD Play Grant! We are very thankful for your community partnership! #communityrocks #TDBank @burnabyschoolshttps://twitter.com/GraceKim_TD/status/916367092470865920\\xa0\\u2026'},\n",
       " {'emote': ':|',\n",
       "  'time': datetime.datetime(2017, 10, 6, 21, 16, 6),\n",
       "  'tweet': u'Some lovely @msvu_halifax Alumni representing @cbuniversity and #TDBank at a @celtic_colours\\u2026 https://www.instagram.com/p/BZ69ri2g6Z5/\\xa0'},\n",
       " {'emote': ':(',\n",
       "  'time': datetime.datetime(2017, 10, 6, 21, 31, 44),\n",
       "  'tweet': u'Thank God Orlando Metro has #wawa and #tdbank . Like being at home in #DE . \\u2014 eating coffe at Wawa http://fb.me/23noF8Ter\\xa0'},\n",
       " {'emote': ':)',\n",
       "  'time': datetime.datetime(2017, 10, 7, 1, 18, 43),\n",
       "  'tweet': u'Last night was a great night to celebrate the Most Powerful Women in Banking. Including this Lifetime Achievement winner. #tdbank #girlpowerpic.twitter.com/j4LcwYcV3S'},\n",
       " {'emote': ':)',\n",
       "  'time': datetime.datetime(2017, 10, 7, 19, 19, 6),\n",
       "  'tweet': u'Yesterday #TDBank had its annual tree planting day.  We had over 75 people come out and plant and it rained... http://fb.me/1ICyd7ihf\\xa0'},\n",
       " {'emote': ':(',\n",
       "  'time': datetime.datetime(2017, 10, 8, 17, 38, 5),\n",
       "  'tweet': u'Family Christmas pics with our little squirt  #TDBank pic.twitter.com/AGZhtMcvgg'},\n",
       " {'emote': ':(',\n",
       "  'time': datetime.datetime(2017, 10, 8, 20, 2, 25),\n",
       "  'tweet': u'Td bank is a fucking shit show. Decline my card at a place I go to regularly with no reason. An hour on the phone. No real reason. #tdbank'},\n",
       " {'emote': ':)',\n",
       "  'time': datetime.datetime(2017, 10, 10, 14, 6, 13),\n",
       "  'tweet': u\"#TDBank customer frustrated w/fraud investigation leaving him owing thousands http://www.cbc.ca/1.4341899\\xa0 via @Toronto_nian PS Know of a Toronto customer of #BMO Bank who too is in similar situation for illegal cash advances made by a fraudster somewhere in Peru where he's never been\"},\n",
       " {'emote': ':)',\n",
       "  'time': datetime.datetime(2017, 10, 10, 18, 32, 22),\n",
       "  'tweet': u'#TDBank #customer #frustrated with #fraudinvestigation #leavinghim #owing #thousands https://ca.finance.yahoo.com/news/td-bank-customer-frustrated-fraud-120000780.html\\xa0\\u2026? #Banking #finance #cdnpoli'},\n",
       " {'emote': ':|',\n",
       "  'time': datetime.datetime(2017, 10, 10, 19, 38, 57),\n",
       "  'tweet': u'#TDBank customer frustrated with #fraud investigation leaving him owing thousands http://www.cbc.ca/news/canada/british-columbia/td-customer-fraud-unhappy-1.4341899\\xa0\\u2026 Bank ripoff too! #rt'},\n",
       " {'emote': ':)',\n",
       "  'time': datetime.datetime(2017, 10, 10, 23, 17, 46),\n",
       "  'tweet': u'Ready to ask our business clients about their digital fluency! #ImDigitalReady #tdbank #bankinyourbedpic.twitter.com/llNw49PzcS'},\n",
       " {'emote': ':)',\n",
       "  'time': datetime.datetime(2017, 10, 11, 13, 29, 13),\n",
       "  'tweet': u'Tower between towers #toronto #cntower #tdbank #financialdistrict #downtownpic.twitter.com/wg8IBOg5Fa'}]"
      ]
     },
     "execution_count": 19,
     "metadata": {},
     "output_type": "execute_result"
    }
   ],
   "source": [
    "tweets"
   ]
  },
  {
   "cell_type": "markdown",
   "metadata": {
    "deletable": true,
    "editable": true
   },
   "source": [
    "Some functionality"
   ]
  },
  {
   "cell_type": "code",
   "execution_count": 72,
   "metadata": {
    "collapsed": false,
    "deletable": true,
    "editable": true
   },
   "outputs": [
    {
     "data": {
      "text/plain": [
       "0.0"
      ]
     },
     "execution_count": 72,
     "metadata": {},
     "output_type": "execute_result"
    }
   ],
   "source": [
    "blob = TextBlob(text2)\n",
    "tb(text2).sentiment #pre-trained Naive Bayes\n",
    "blob.sentiment.polarity #Pattern Analyzer"
   ]
  }
 ],
 "metadata": {
  "kernelspec": {
   "display_name": "Python 2",
   "language": "python",
   "name": "python2"
  },
  "language_info": {
   "codemirror_mode": {
    "name": "ipython",
    "version": 2
   },
   "file_extension": ".py",
   "mimetype": "text/x-python",
   "name": "python",
   "nbconvert_exporter": "python",
   "pygments_lexer": "ipython2",
   "version": "2.7.12"
  }
 },
 "nbformat": 4,
 "nbformat_minor": 2
}
